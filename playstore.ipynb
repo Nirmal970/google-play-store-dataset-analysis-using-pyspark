{
 "cells": [
  {
   "cell_type": "code",
   "execution_count": 2,
   "id": "1735a8bd-93f0-4e92-9e05-a2f6af03c202",
   "metadata": {},
   "outputs": [],
   "source": [
    "import pyspark\n",
    "from pyspark.sql import SparkSession\n",
    "from pyspark.sql.types import StructType,StructField,StringType,IntegerType\n",
    "from pyspark.sql.functions import * \n",
    "from pyspark.sql.functions import regexp_replace, col"
   ]
  },
  {
   "cell_type": "code",
   "execution_count": 3,
   "id": "cedf0ce2-dec0-4102-acd1-771ffca38090",
   "metadata": {},
   "outputs": [],
   "source": [
    "spark=SparkSession.builder.appName(\"play\").getOrCreate()"
   ]
  },
  {
   "cell_type": "code",
   "execution_count": 6,
   "id": "cde17348-a972-4e5e-8e07-4d50245eb670",
   "metadata": {},
   "outputs": [],
   "source": [
    "df=spark.read.csv(\"googleplaystore.csv\",inferSchema=True,header=True)"
   ]
  },
  {
   "cell_type": "code",
   "execution_count": 9,
   "id": "1e6adb3b-533d-43a1-97ce-3a7d7716b019",
   "metadata": {},
   "outputs": [
    {
     "name": "stdout",
     "output_type": "stream",
     "text": [
      "+--------------------+--------------+------+-------+----+-----------+----+-----+--------------+--------------------+------------------+------------------+------------+\n",
      "|                 App|      Category|Rating|Reviews|Size|   Installs|Type|Price|Content Rating|              Genres|      Last Updated|       Current Ver| Android Ver|\n",
      "+--------------------+--------------+------+-------+----+-----------+----+-----+--------------+--------------------+------------------+------------------+------------+\n",
      "|Photo Editor & Ca...|ART_AND_DESIGN|   4.1|    159| 19M|    10,000+|Free|    0|      Everyone|        Art & Design|   January 7, 2018|             1.0.0|4.0.3 and up|\n",
      "| Coloring book moana|ART_AND_DESIGN|   3.9|    967| 14M|   500,000+|Free|    0|      Everyone|Art & Design;Pret...|  January 15, 2018|             2.0.0|4.0.3 and up|\n",
      "|U Launcher Lite –...|ART_AND_DESIGN|   4.7|  87510|8.7M| 5,000,000+|Free|    0|      Everyone|        Art & Design|    August 1, 2018|             1.2.4|4.0.3 and up|\n",
      "|Sketch - Draw & P...|ART_AND_DESIGN|   4.5| 215644| 25M|50,000,000+|Free|    0|          Teen|        Art & Design|      June 8, 2018|Varies with device|  4.2 and up|\n",
      "|Pixel Draw - Numb...|ART_AND_DESIGN|   4.3|    967|2.8M|   100,000+|Free|    0|      Everyone|Art & Design;Crea...|     June 20, 2018|               1.1|  4.4 and up|\n",
      "|Paper flowers ins...|ART_AND_DESIGN|   4.4|    167|5.6M|    50,000+|Free|    0|      Everyone|        Art & Design|    March 26, 2017|               1.0|  2.3 and up|\n",
      "|Smoke Effect Phot...|ART_AND_DESIGN|   3.8|    178| 19M|    50,000+|Free|    0|      Everyone|        Art & Design|    April 26, 2018|               1.1|4.0.3 and up|\n",
      "|    Infinite Painter|ART_AND_DESIGN|   4.1|  36815| 29M| 1,000,000+|Free|    0|      Everyone|        Art & Design|     June 14, 2018|          6.1.61.1|  4.2 and up|\n",
      "|Garden Coloring Book|ART_AND_DESIGN|   4.4|  13791| 33M| 1,000,000+|Free|    0|      Everyone|        Art & Design|September 20, 2017|             2.9.2|  3.0 and up|\n",
      "|Kids Paint Free -...|ART_AND_DESIGN|   4.7|    121|3.1M|    10,000+|Free|    0|      Everyone|Art & Design;Crea...|      July 3, 2018|               2.8|4.0.3 and up|\n",
      "|Text on Photo - F...|ART_AND_DESIGN|   4.4|  13880| 28M| 1,000,000+|Free|    0|      Everyone|        Art & Design|  October 27, 2017|             1.0.4|  4.1 and up|\n",
      "|Name Art Photo Ed...|ART_AND_DESIGN|   4.4|   8788| 12M| 1,000,000+|Free|    0|      Everyone|        Art & Design|     July 31, 2018|            1.0.15|  4.0 and up|\n",
      "|Tattoo Name On My...|ART_AND_DESIGN|   4.2|  44829| 20M|10,000,000+|Free|    0|          Teen|        Art & Design|     April 2, 2018|               3.8|  4.1 and up|\n",
      "|Mandala Coloring ...|ART_AND_DESIGN|   4.6|   4326| 21M|   100,000+|Free|    0|      Everyone|        Art & Design|     June 26, 2018|             1.0.4|  4.4 and up|\n",
      "|3D Color Pixel by...|ART_AND_DESIGN|   4.4|   1518| 37M|   100,000+|Free|    0|      Everyone|        Art & Design|    August 3, 2018|             1.2.3|  2.3 and up|\n",
      "|Learn To Draw Kaw...|ART_AND_DESIGN|   3.2|     55|2.7M|     5,000+|Free|    0|      Everyone|        Art & Design|      June 6, 2018|               NaN|  4.2 and up|\n",
      "|Photo Designer - ...|ART_AND_DESIGN|   4.7|   3632|5.5M|   500,000+|Free|    0|      Everyone|        Art & Design|     July 31, 2018|               3.1|  4.1 and up|\n",
      "|350 Diy Room Deco...|ART_AND_DESIGN|   4.5|     27| 17M|    10,000+|Free|    0|      Everyone|        Art & Design|  November 7, 2017|               1.0|  2.3 and up|\n",
      "|FlipaClip - Carto...|ART_AND_DESIGN|   4.3| 194216| 39M| 5,000,000+|Free|    0|      Everyone|        Art & Design|    August 3, 2018|             2.2.5|4.0.3 and up|\n",
      "|        ibis Paint X|ART_AND_DESIGN|   4.6| 224399| 31M|10,000,000+|Free|    0|      Everyone|        Art & Design|     July 30, 2018|             5.5.4|  4.1 and up|\n",
      "+--------------------+--------------+------+-------+----+-----------+----+-----+--------------+--------------------+------------------+------------------+------------+\n",
      "only showing top 20 rows\n",
      "\n"
     ]
    }
   ],
   "source": [
    "df.show()"
   ]
  },
  {
   "cell_type": "code",
   "execution_count": 8,
   "id": "5bc1b82d-3dcb-4b40-8d78-79e6e6a8dc6d",
   "metadata": {},
   "outputs": [
    {
     "name": "stdout",
     "output_type": "stream",
     "text": [
      "root\n",
      " |-- App: string (nullable = true)\n",
      " |-- Category: string (nullable = true)\n",
      " |-- Rating: string (nullable = true)\n",
      " |-- Reviews: string (nullable = true)\n",
      " |-- Size: string (nullable = true)\n",
      " |-- Installs: string (nullable = true)\n",
      " |-- Type: string (nullable = true)\n",
      " |-- Price: string (nullable = true)\n",
      " |-- Content Rating: string (nullable = true)\n",
      " |-- Genres: string (nullable = true)\n",
      " |-- Last Updated: string (nullable = true)\n",
      " |-- Current Ver: string (nullable = true)\n",
      " |-- Android Ver: string (nullable = true)\n",
      "\n"
     ]
    }
   ],
   "source": [
    "df.printSchema()"
   ]
  },
  {
   "cell_type": "code",
   "execution_count": 10,
   "id": "6a6d4400-4c5a-4486-95e2-82f9d6171f85",
   "metadata": {},
   "outputs": [
    {
     "data": {
      "text/plain": [
       "DataFrame[App: string, Category: string, Rating: string, Reviews: string, Installs: string, Type: string, Price: string, Genres: string, Current Ver: string]"
      ]
     },
     "execution_count": 10,
     "metadata": {},
     "output_type": "execute_result"
    }
   ],
   "source": [
    "df.drop(\"size\",\"Content Rating\",\"Last Updated\",\"Android Ver\")"
   ]
  },
  {
   "cell_type": "code",
   "execution_count": 11,
   "id": "11ce9232-bad2-45c8-aca2-8722d1245b13",
   "metadata": {},
   "outputs": [],
   "source": [
    "df1=df.withColumn(\"Reviews\",col(\"Reviews\").cast(IntegerType())).withColumn(\"Installs\",regexp_replace(col(\"Installs\"),\"[^0-9]\",\"\"))\\\n",
    ".withColumn(\"Installs\",col(\"Installs\").cast(IntegerType())).withColumn(\"Price\",regexp_replace(col(\"Price\"),\"[$]\",\"\"))\\\n",
    ".withColumn(\"Installs\",col(\"Installs\").cast(IntegerType()))"
   ]
  },
  {
   "cell_type": "code",
   "execution_count": 20,
   "id": "be35d20d-24cd-4ba6-94fe-212bbbd1f585",
   "metadata": {},
   "outputs": [
    {
     "name": "stdout",
     "output_type": "stream",
     "text": [
      "root\n",
      " |-- App: string (nullable = true)\n",
      " |-- Category: string (nullable = true)\n",
      " |-- Rating: string (nullable = true)\n",
      " |-- Reviews: integer (nullable = true)\n",
      " |-- Size: string (nullable = true)\n",
      " |-- Installs: integer (nullable = true)\n",
      " |-- Type: string (nullable = true)\n",
      " |-- Price: string (nullable = true)\n",
      " |-- Content Rating: string (nullable = true)\n",
      " |-- Genres: string (nullable = true)\n",
      " |-- Last Updated: string (nullable = true)\n",
      " |-- Current Ver: string (nullable = true)\n",
      " |-- Android Ver: string (nullable = true)\n",
      "\n"
     ]
    }
   ],
   "source": [
    "df1.printSchema()"
   ]
  },
  {
   "cell_type": "code",
   "execution_count": 13,
   "id": "97df9f58-897a-44d2-8321-6c64a6caf349",
   "metadata": {
    "scrolled": true
   },
   "outputs": [
    {
     "name": "stdout",
     "output_type": "stream",
     "text": [
      "+--------------------+--------------+------+-------+----+--------+----+-----+--------------+--------------------+------------------+------------------+------------+\n",
      "|                 App|      Category|Rating|Reviews|Size|Installs|Type|Price|Content Rating|              Genres|      Last Updated|       Current Ver| Android Ver|\n",
      "+--------------------+--------------+------+-------+----+--------+----+-----+--------------+--------------------+------------------+------------------+------------+\n",
      "|Photo Editor & Ca...|ART_AND_DESIGN|   4.1|    159| 19M|   10000|Free|    0|      Everyone|        Art & Design|   January 7, 2018|             1.0.0|4.0.3 and up|\n",
      "| Coloring book moana|ART_AND_DESIGN|   3.9|    967| 14M|  500000|Free|    0|      Everyone|Art & Design;Pret...|  January 15, 2018|             2.0.0|4.0.3 and up|\n",
      "|U Launcher Lite –...|ART_AND_DESIGN|   4.7|  87510|8.7M| 5000000|Free|    0|      Everyone|        Art & Design|    August 1, 2018|             1.2.4|4.0.3 and up|\n",
      "|Sketch - Draw & P...|ART_AND_DESIGN|   4.5| 215644| 25M|50000000|Free|    0|          Teen|        Art & Design|      June 8, 2018|Varies with device|  4.2 and up|\n",
      "|Pixel Draw - Numb...|ART_AND_DESIGN|   4.3|    967|2.8M|  100000|Free|    0|      Everyone|Art & Design;Crea...|     June 20, 2018|               1.1|  4.4 and up|\n",
      "|Paper flowers ins...|ART_AND_DESIGN|   4.4|    167|5.6M|   50000|Free|    0|      Everyone|        Art & Design|    March 26, 2017|               1.0|  2.3 and up|\n",
      "|Smoke Effect Phot...|ART_AND_DESIGN|   3.8|    178| 19M|   50000|Free|    0|      Everyone|        Art & Design|    April 26, 2018|               1.1|4.0.3 and up|\n",
      "|    Infinite Painter|ART_AND_DESIGN|   4.1|  36815| 29M| 1000000|Free|    0|      Everyone|        Art & Design|     June 14, 2018|          6.1.61.1|  4.2 and up|\n",
      "|Garden Coloring Book|ART_AND_DESIGN|   4.4|  13791| 33M| 1000000|Free|    0|      Everyone|        Art & Design|September 20, 2017|             2.9.2|  3.0 and up|\n",
      "|Kids Paint Free -...|ART_AND_DESIGN|   4.7|    121|3.1M|   10000|Free|    0|      Everyone|Art & Design;Crea...|      July 3, 2018|               2.8|4.0.3 and up|\n",
      "|Text on Photo - F...|ART_AND_DESIGN|   4.4|  13880| 28M| 1000000|Free|    0|      Everyone|        Art & Design|  October 27, 2017|             1.0.4|  4.1 and up|\n",
      "|Name Art Photo Ed...|ART_AND_DESIGN|   4.4|   8788| 12M| 1000000|Free|    0|      Everyone|        Art & Design|     July 31, 2018|            1.0.15|  4.0 and up|\n",
      "|Tattoo Name On My...|ART_AND_DESIGN|   4.2|  44829| 20M|10000000|Free|    0|          Teen|        Art & Design|     April 2, 2018|               3.8|  4.1 and up|\n",
      "|Mandala Coloring ...|ART_AND_DESIGN|   4.6|   4326| 21M|  100000|Free|    0|      Everyone|        Art & Design|     June 26, 2018|             1.0.4|  4.4 and up|\n",
      "|3D Color Pixel by...|ART_AND_DESIGN|   4.4|   1518| 37M|  100000|Free|    0|      Everyone|        Art & Design|    August 3, 2018|             1.2.3|  2.3 and up|\n",
      "|Learn To Draw Kaw...|ART_AND_DESIGN|   3.2|     55|2.7M|    5000|Free|    0|      Everyone|        Art & Design|      June 6, 2018|               NaN|  4.2 and up|\n",
      "|Photo Designer - ...|ART_AND_DESIGN|   4.7|   3632|5.5M|  500000|Free|    0|      Everyone|        Art & Design|     July 31, 2018|               3.1|  4.1 and up|\n",
      "|350 Diy Room Deco...|ART_AND_DESIGN|   4.5|     27| 17M|   10000|Free|    0|      Everyone|        Art & Design|  November 7, 2017|               1.0|  2.3 and up|\n",
      "|FlipaClip - Carto...|ART_AND_DESIGN|   4.3| 194216| 39M| 5000000|Free|    0|      Everyone|        Art & Design|    August 3, 2018|             2.2.5|4.0.3 and up|\n",
      "|        ibis Paint X|ART_AND_DESIGN|   4.6| 224399| 31M|10000000|Free|    0|      Everyone|        Art & Design|     July 30, 2018|             5.5.4|  4.1 and up|\n",
      "+--------------------+--------------+------+-------+----+--------+----+-----+--------------+--------------------+------------------+------------------+------------+\n",
      "only showing top 20 rows\n",
      "\n"
     ]
    }
   ],
   "source": [
    "df1.show()"
   ]
  },
  {
   "cell_type": "code",
   "execution_count": 22,
   "id": "bc6deb9d-4ccf-456b-9c04-abb56b5a6052",
   "metadata": {},
   "outputs": [
    {
     "name": "stdout",
     "output_type": "stream",
     "text": [
      "+-------------------+--------------------+\n",
      "|           Category|    Average Installs|\n",
      "+-------------------+--------------------+\n",
      "|      COMMUNICATION| 8.435988695348836E7|\n",
      "|             SOCIAL| 4.769446746440678E7|\n",
      "|      VIDEO_PLAYERS| 3.555430125714286E7|\n",
      "|       PRODUCTIVITY| 3.343417775707547E7|\n",
      "|               GAME|3.0669601761363637E7|\n",
      "|        PHOTOGRAPHY| 3.011417210447761E7|\n",
      "|   TRAVEL_AND_LOCAL| 2.662359358914729E7|\n",
      "| NEWS_AND_MAGAZINES|2.6488755335689045E7|\n",
      "|      ENTERTAINMENT|1.9256107382550336E7|\n",
      "|              TOOLS|1.3585731809015421E7|\n",
      "|           SHOPPING|1.2491726096153846E7|\n",
      "|BOOKS_AND_REFERENCE|   8318050.112554112|\n",
      "|    PERSONALIZATION|   5932384.647959184|\n",
      "|          EDUCATION|   5586230.769230769|\n",
      "|MAPS_AND_NAVIGATION|   5288837.426470588|\n",
      "|             FAMILY|   5201959.181034483|\n",
      "|            WEATHER|   5196347.804878049|\n",
      "| HEALTH_AND_FITNESS|   4653154.447058824|\n",
      "|             SPORTS|   4560350.255208333|\n",
      "|            FINANCE|   2395215.120218579|\n",
      "+-------------------+--------------------+\n",
      "only showing top 20 rows\n",
      "\n"
     ]
    }
   ],
   "source": [
    "#Average number of installs per category\n",
    "df1.groupBy(\"Category\").agg(avg(\"Installs\").alias(\"Average Installs\")).orderBy(\"Average Installs\",ascending=False).show()"
   ]
  },
  {
   "cell_type": "code",
   "execution_count": 35,
   "id": "51da585a-3627-4d5c-9980-9076e2a991a6",
   "metadata": {},
   "outputs": [
    {
     "name": "stdout",
     "output_type": "stream",
     "text": [
      "Total number of Paid apps 804\n"
     ]
    }
   ],
   "source": [
    "#Number of Paid Apps\n",
    "count=df1.where(col(\"Type\") != \"Free\").count()\n",
    "print(f\"Total number of Paid apps {count}\")"
   ]
  },
  {
   "cell_type": "code",
   "execution_count": 41,
   "id": "555042fa-f35e-4dfc-b1ed-bfb2a8a581e0",
   "metadata": {},
   "outputs": [],
   "source": [
    "df1.createOrReplaceTempView(\"play\")"
   ]
  },
  {
   "cell_type": "code",
   "execution_count": 42,
   "id": "f0f2f382-b60a-4d4f-bdfb-f557b7849c00",
   "metadata": {},
   "outputs": [
    {
     "name": "stdout",
     "output_type": "stream",
     "text": [
      "+--------------------+--------------+------+-------+----+--------+----+-----+--------------+--------------------+------------------+------------------+------------+\n",
      "|                 App|      Category|Rating|Reviews|Size|Installs|Type|Price|Content Rating|              Genres|      Last Updated|       Current Ver| Android Ver|\n",
      "+--------------------+--------------+------+-------+----+--------+----+-----+--------------+--------------------+------------------+------------------+------------+\n",
      "|Photo Editor & Ca...|ART_AND_DESIGN|   4.1|    159| 19M|   10000|Free|    0|      Everyone|        Art & Design|   January 7, 2018|             1.0.0|4.0.3 and up|\n",
      "| Coloring book moana|ART_AND_DESIGN|   3.9|    967| 14M|  500000|Free|    0|      Everyone|Art & Design;Pret...|  January 15, 2018|             2.0.0|4.0.3 and up|\n",
      "|U Launcher Lite –...|ART_AND_DESIGN|   4.7|  87510|8.7M| 5000000|Free|    0|      Everyone|        Art & Design|    August 1, 2018|             1.2.4|4.0.3 and up|\n",
      "|Sketch - Draw & P...|ART_AND_DESIGN|   4.5| 215644| 25M|50000000|Free|    0|          Teen|        Art & Design|      June 8, 2018|Varies with device|  4.2 and up|\n",
      "|Pixel Draw - Numb...|ART_AND_DESIGN|   4.3|    967|2.8M|  100000|Free|    0|      Everyone|Art & Design;Crea...|     June 20, 2018|               1.1|  4.4 and up|\n",
      "|Paper flowers ins...|ART_AND_DESIGN|   4.4|    167|5.6M|   50000|Free|    0|      Everyone|        Art & Design|    March 26, 2017|               1.0|  2.3 and up|\n",
      "|Smoke Effect Phot...|ART_AND_DESIGN|   3.8|    178| 19M|   50000|Free|    0|      Everyone|        Art & Design|    April 26, 2018|               1.1|4.0.3 and up|\n",
      "|    Infinite Painter|ART_AND_DESIGN|   4.1|  36815| 29M| 1000000|Free|    0|      Everyone|        Art & Design|     June 14, 2018|          6.1.61.1|  4.2 and up|\n",
      "|Garden Coloring Book|ART_AND_DESIGN|   4.4|  13791| 33M| 1000000|Free|    0|      Everyone|        Art & Design|September 20, 2017|             2.9.2|  3.0 and up|\n",
      "|Kids Paint Free -...|ART_AND_DESIGN|   4.7|    121|3.1M|   10000|Free|    0|      Everyone|Art & Design;Crea...|      July 3, 2018|               2.8|4.0.3 and up|\n",
      "|Text on Photo - F...|ART_AND_DESIGN|   4.4|  13880| 28M| 1000000|Free|    0|      Everyone|        Art & Design|  October 27, 2017|             1.0.4|  4.1 and up|\n",
      "|Name Art Photo Ed...|ART_AND_DESIGN|   4.4|   8788| 12M| 1000000|Free|    0|      Everyone|        Art & Design|     July 31, 2018|            1.0.15|  4.0 and up|\n",
      "|Tattoo Name On My...|ART_AND_DESIGN|   4.2|  44829| 20M|10000000|Free|    0|          Teen|        Art & Design|     April 2, 2018|               3.8|  4.1 and up|\n",
      "|Mandala Coloring ...|ART_AND_DESIGN|   4.6|   4326| 21M|  100000|Free|    0|      Everyone|        Art & Design|     June 26, 2018|             1.0.4|  4.4 and up|\n",
      "|3D Color Pixel by...|ART_AND_DESIGN|   4.4|   1518| 37M|  100000|Free|    0|      Everyone|        Art & Design|    August 3, 2018|             1.2.3|  2.3 and up|\n",
      "|Learn To Draw Kaw...|ART_AND_DESIGN|   3.2|     55|2.7M|    5000|Free|    0|      Everyone|        Art & Design|      June 6, 2018|               NaN|  4.2 and up|\n",
      "|Photo Designer - ...|ART_AND_DESIGN|   4.7|   3632|5.5M|  500000|Free|    0|      Everyone|        Art & Design|     July 31, 2018|               3.1|  4.1 and up|\n",
      "|350 Diy Room Deco...|ART_AND_DESIGN|   4.5|     27| 17M|   10000|Free|    0|      Everyone|        Art & Design|  November 7, 2017|               1.0|  2.3 and up|\n",
      "|FlipaClip - Carto...|ART_AND_DESIGN|   4.3| 194216| 39M| 5000000|Free|    0|      Everyone|        Art & Design|    August 3, 2018|             2.2.5|4.0.3 and up|\n",
      "|        ibis Paint X|ART_AND_DESIGN|   4.6| 224399| 31M|10000000|Free|    0|      Everyone|        Art & Design|     July 30, 2018|             5.5.4|  4.1 and up|\n",
      "+--------------------+--------------+------+-------+----+--------+----+-----+--------------+--------------------+------------------+------------------+------------+\n",
      "only showing top 20 rows\n",
      "\n"
     ]
    }
   ],
   "source": [
    "spark.sql(\"select * from play\").show()"
   ]
  },
  {
   "cell_type": "code",
   "execution_count": 44,
   "id": "77b73461-2450-4df2-83c4-b6675f041ab4",
   "metadata": {},
   "outputs": [
    {
     "name": "stdout",
     "output_type": "stream",
     "text": [
      "+-----------------+\n",
      "|              App|\n",
      "+-----------------+\n",
      "|Google Play Books|\n",
      "+-----------------+\n",
      "\n"
     ]
    }
   ],
   "source": [
    "#App with highest number of Installs\n",
    "spark.sql(\"select App from play order by Installs DESC limit 1\").show()"
   ]
  },
  {
   "cell_type": "code",
   "execution_count": 53,
   "id": "5ada4df1-0abd-401d-890f-3cb2e62735de",
   "metadata": {},
   "outputs": [
    {
     "name": "stdout",
     "output_type": "stream",
     "text": [
      "+--------------------+--------+\n",
      "|                 App| Reviews|\n",
      "+--------------------+--------+\n",
      "|            Facebook|78158306|\n",
      "|            Facebook|78128208|\n",
      "|  WhatsApp Messenger|69119316|\n",
      "|  WhatsApp Messenger|69119316|\n",
      "|  WhatsApp Messenger|69109672|\n",
      "|           Instagram|66577446|\n",
      "|           Instagram|66577313|\n",
      "|           Instagram|66577313|\n",
      "|           Instagram|66509917|\n",
      "|Messenger – Text ...|56646578|\n",
      "+--------------------+--------+\n",
      "\n"
     ]
    }
   ],
   "source": [
    "#top 5 Apps with highest Reviews\n",
    "spark.sql(\"select App,Reviews from play order by Reviews DESC limit 10\").show()"
   ]
  },
  {
   "cell_type": "code",
   "execution_count": null,
   "id": "9914802d-f3ed-4e21-8c73-7714493fbd01",
   "metadata": {},
   "outputs": [],
   "source": []
  }
 ],
 "metadata": {
  "kernelspec": {
   "display_name": "Python 3 (ipykernel)",
   "language": "python",
   "name": "python3"
  },
  "language_info": {
   "codemirror_mode": {
    "name": "ipython",
    "version": 3
   },
   "file_extension": ".py",
   "mimetype": "text/x-python",
   "name": "python",
   "nbconvert_exporter": "python",
   "pygments_lexer": "ipython3",
   "version": "3.11.4"
  }
 },
 "nbformat": 4,
 "nbformat_minor": 5
}
